{
 "cells": [
  {
   "cell_type": "markdown",
   "metadata": {
    "id": "h3WaayOxQy2I"
   },
   "source": [
    "## YOUTUBE SPAM DETECTION"
   ]
  },
  {
   "cell_type": "markdown",
   "metadata": {
    "id": "10C-ksHKQwTh"
   },
   "source": [
    "In this  project,  with  a  given  public  set  ofYouTube  comments  collected  for  spam  research,  different  approaches  for  classifying  spam  arecreated and compared.  The initial set consists of 5 datasets composed by 1,956 real messagesextracted from five videos that were among the 10 most viewed on the collection period"
   ]
  },
  {
   "cell_type": "markdown",
   "metadata": {
    "id": "8hsHpmQ2QePM"
   },
   "source": [
    "### Imports\n"
   ]
  },
  {
   "cell_type": "code",
   "execution_count": null,
   "metadata": {
    "colab": {
     "base_uri": "https://localhost:8080/"
    },
    "id": "cmq0LeHQ80yq",
    "outputId": "e99f80e9-1da9-4352-d7d6-9710a6709b28"
   },
   "outputs": [
    {
     "name": "stdout",
     "output_type": "stream",
     "text": [
      "Requirement already satisfied: transformers in /usr/local/lib/python3.6/dist-packages (4.2.1)\n",
      "Requirement already satisfied: importlib-metadata; python_version < \"3.8\" in /usr/local/lib/python3.6/dist-packages (from transformers) (3.3.0)\n",
      "Requirement already satisfied: sacremoses in /usr/local/lib/python3.6/dist-packages (from transformers) (0.0.43)\n",
      "Requirement already satisfied: dataclasses; python_version < \"3.7\" in /usr/local/lib/python3.6/dist-packages (from transformers) (0.8)\n",
      "Requirement already satisfied: regex!=2019.12.17 in /usr/local/lib/python3.6/dist-packages (from transformers) (2019.12.20)\n",
      "Requirement already satisfied: tqdm>=4.27 in /usr/local/lib/python3.6/dist-packages (from transformers) (4.41.1)\n",
      "Requirement already satisfied: tokenizers==0.9.4 in /usr/local/lib/python3.6/dist-packages (from transformers) (0.9.4)\n",
      "Requirement already satisfied: packaging in /usr/local/lib/python3.6/dist-packages (from transformers) (20.8)\n",
      "Requirement already satisfied: numpy in /usr/local/lib/python3.6/dist-packages (from transformers) (1.19.5)\n",
      "Requirement already satisfied: filelock in /usr/local/lib/python3.6/dist-packages (from transformers) (3.0.12)\n",
      "Requirement already satisfied: requests in /usr/local/lib/python3.6/dist-packages (from transformers) (2.23.0)\n",
      "Requirement already satisfied: zipp>=0.5 in /usr/local/lib/python3.6/dist-packages (from importlib-metadata; python_version < \"3.8\"->transformers) (3.4.0)\n",
      "Requirement already satisfied: typing-extensions>=3.6.4; python_version < \"3.8\" in /usr/local/lib/python3.6/dist-packages (from importlib-metadata; python_version < \"3.8\"->transformers) (3.7.4.3)\n",
      "Requirement already satisfied: joblib in /usr/local/lib/python3.6/dist-packages (from sacremoses->transformers) (1.0.0)\n",
      "Requirement already satisfied: six in /usr/local/lib/python3.6/dist-packages (from sacremoses->transformers) (1.15.0)\n",
      "Requirement already satisfied: click in /usr/local/lib/python3.6/dist-packages (from sacremoses->transformers) (7.1.2)\n",
      "Requirement already satisfied: pyparsing>=2.0.2 in /usr/local/lib/python3.6/dist-packages (from packaging->transformers) (2.4.7)\n",
      "Requirement already satisfied: certifi>=2017.4.17 in /usr/local/lib/python3.6/dist-packages (from requests->transformers) (2020.12.5)\n",
      "Requirement already satisfied: chardet<4,>=3.0.2 in /usr/local/lib/python3.6/dist-packages (from requests->transformers) (3.0.4)\n",
      "Requirement already satisfied: urllib3!=1.25.0,!=1.25.1,<1.26,>=1.21.1 in /usr/local/lib/python3.6/dist-packages (from requests->transformers) (1.24.3)\n",
      "Requirement already satisfied: idna<3,>=2.5 in /usr/local/lib/python3.6/dist-packages (from requests->transformers) (2.10)\n"
     ]
    }
   ],
   "source": [
    "!pip install transformers"
   ]
  },
  {
   "cell_type": "code",
   "execution_count": null,
   "metadata": {
    "colab": {
     "base_uri": "https://localhost:8080/"
    },
    "id": "ZRmzAPQOhTIH",
    "outputId": "8e0fe744-1f6f-4f3f-f48a-1926c05d0a19"
   },
   "outputs": [
    {
     "name": "stdout",
     "output_type": "stream",
     "text": [
      "[nltk_data] Downloading package stopwords to /root/nltk_data...\n",
      "[nltk_data]   Package stopwords is already up-to-date!\n",
      "[nltk_data] Downloading package punkt to /root/nltk_data...\n",
      "[nltk_data]   Package punkt is already up-to-date!\n"
     ]
    }
   ],
   "source": [
    "import pandas as pd\n",
    "import matplotlib.pyplot as plt\n",
    "from nltk.tokenize import word_tokenize\n",
    "from nltk.corpus import stopwords \n",
    "import nltk \n",
    "from nltk.tokenize import sent_tokenize\n",
    "import spacy\n",
    "import re\n",
    "import nltk\n",
    "import torch\n",
    "import torch.nn as nn\n",
    "import transformers as ppb\n",
    "from sklearn.model_selection import train_test_split\n",
    "from transformers import AutoModel, BertTokenizerFast\n",
    "from sklearn.feature_extraction.text import TfidfVectorizer\n",
    "from sklearn.model_selection import cross_val_score\n",
    "from sklearn.linear_model import LogisticRegression\n",
    "from sklearn.model_selection import GridSearchCV\n",
    "from sklearn.model_selection import cross_val_score\n",
    "from sklearn import metrics\n",
    "import numpy as np\n",
    "from sklearn.naive_bayes import MultinomialNB\n",
    "import numpy as np\n",
    "from sklearn.metrics import classification_report\n",
    "import tensorflow as tf\n",
    "import os\n",
    "from transformers import BertTokenizer, TFBertForSequenceClassification\n",
    "from sklearn.metrics import *\n",
    "import seaborn as sns\n",
    "\n",
    "nltk.download('stopwords')\n",
    "nltk.download('punkt')\n",
    "stop_words = set(stopwords.words('english'))\n",
    "sp = spacy.load('en_core_web_sm')\n",
    "tf_idf_vectorizer = TfidfVectorizer()"
   ]
  },
  {
   "cell_type": "markdown",
   "metadata": {
    "id": "G-JjDtocu8Oj"
   },
   "source": [
    "### Data Analysis and Preprocessing"
   ]
  },
  {
   "cell_type": "markdown",
   "metadata": {
    "id": "Cbz77S6cxQJb"
   },
   "source": [
    "Combining data"
   ]
  },
  {
   "cell_type": "code",
   "execution_count": null,
   "metadata": {
    "id": "AYpb6Efch9vb"
   },
   "outputs": [],
   "source": [
    "csvs = ['https://raw.githubusercontent.com/vitalijusC/youtube_spam/main/Youtube01-Psy.csv',\n",
    "       'https://raw.githubusercontent.com/vitalijusC/youtube_spam/main/Youtube02-KatyPerry.csv',\n",
    "       'https://raw.githubusercontent.com/vitalijusC/youtube_spam/main/Youtube03-LMFAO.csv',\n",
    "       'https://raw.githubusercontent.com/vitalijusC/youtube_spam/main/Youtube04-Eminem.csv',\n",
    "       'https://raw.githubusercontent.com/vitalijusC/youtube_spam/main/Youtube05-Shakira.csv']\n",
    "\n",
    "data = []\n",
    "for csv in csvs:\n",
    "  data.append(pd.read_csv(csv))\n",
    "data = pd.concat(data) "
   ]
  },
  {
   "cell_type": "code",
   "execution_count": null,
   "metadata": {
    "id": "fZXqGf5ytF_3"
   },
   "outputs": [],
   "source": [
    "metrics_columns = ['Algorithm','Accuracy',\n",
    "                   'ROC_AUC', 'F1', 'APS',\n",
    "                   'Sensitivity', 'Specificity',\n",
    "                   ]\n",
    "metrics_df = pd.DataFrame(columns = metrics_columns)\n",
    "matrices = []"
   ]
  },
  {
   "cell_type": "code",
   "execution_count": null,
   "metadata": {
    "colab": {
     "base_uri": "https://localhost:8080/"
    },
    "id": "45Mx9Tfwqm58",
    "outputId": "d011b4ca-33e9-454f-e06b-646fc4c36a27"
   },
   "outputs": [
    {
     "name": "stdout",
     "output_type": "stream",
     "text": [
      "<class 'pandas.core.frame.DataFrame'>\n",
      "Int64Index: 1956 entries, 0 to 369\n",
      "Data columns (total 5 columns):\n",
      " #   Column      Non-Null Count  Dtype \n",
      "---  ------      --------------  ----- \n",
      " 0   COMMENT_ID  1956 non-null   object\n",
      " 1   AUTHOR      1956 non-null   object\n",
      " 2   DATE        1711 non-null   object\n",
      " 3   CONTENT     1956 non-null   object\n",
      " 4   CLASS       1956 non-null   int64 \n",
      "dtypes: int64(1), object(4)\n",
      "memory usage: 91.7+ KB\n"
     ]
    }
   ],
   "source": [
    "data.info()"
   ]
  },
  {
   "cell_type": "markdown",
   "metadata": {
    "id": "UMPX9j1nvITG"
   },
   "source": [
    "Checking for all the null values"
   ]
  },
  {
   "cell_type": "code",
   "execution_count": null,
   "metadata": {
    "colab": {
     "base_uri": "https://localhost:8080/"
    },
    "id": "WqS_GpeDJFPm",
    "outputId": "4186fe1b-87f5-4692-c544-fdb3d241b1ac"
   },
   "outputs": [
    {
     "data": {
      "text/plain": [
       "COMMENT_ID      0\n",
       "AUTHOR          0\n",
       "DATE          245\n",
       "CONTENT         0\n",
       "CLASS           0\n",
       "dtype: int64"
      ]
     },
     "execution_count": 6,
     "metadata": {
      "tags": []
     },
     "output_type": "execute_result"
    }
   ],
   "source": [
    "data.isnull().sum()"
   ]
  },
  {
   "cell_type": "code",
   "execution_count": null,
   "metadata": {
    "colab": {
     "base_uri": "https://localhost:8080/",
     "height": 281
    },
    "id": "zPw7RrK_rejj",
    "outputId": "2e76fbae-1e8b-4570-c6f4-ac5668eb11ec"
   },
   "outputs": [
    {
     "data": {
      "image/png": "[encoded data removed]",
      "text/plain": [
       "<Figure size 432x288 with 1 Axes>"
      ]
     },
     "metadata": {
      "needs_background": "light",
      "tags": []
     },
     "output_type": "display_data"
    }
   ],
   "source": [
    "count = data['CLASS'].value_counts()\n",
    "plt.bar([1, 0], [count[1], count[0]], tick_label = ['1', '0'], )\n",
    "plt.title(\"Class Distribution\")\n",
    "xlocs, xlabs = plt.xticks()\n",
    "for i, v in enumerate(count):\n",
    "    plt.text(xlocs[i] - 0.08, v+5, str(v))\n",
    "plt.show()"
   ]
  },
  {
   "cell_type": "markdown",
   "metadata": {
    "id": "W7W2zI-8vh7x"
   },
   "source": [
    "Checking number of unique authors"
   ]
  },
  {
   "cell_type": "code",
   "execution_count": null,
   "metadata": {
    "colab": {
     "base_uri": "https://localhost:8080/"
    },
    "id": "fs9vWkIvt02c",
    "outputId": "21ff35c1-3141-4755-e115-c91cfa62d875"
   },
   "outputs": [
    {
     "data": {
      "text/plain": [
       "1792"
      ]
     },
     "execution_count": 8,
     "metadata": {
      "tags": []
     },
     "output_type": "execute_result"
    }
   ],
   "source": [
    "data['AUTHOR'].nunique()"
   ]
  },
  {
   "cell_type": "markdown",
   "metadata": {
    "id": "OYlDexC2znvQ"
   },
   "source": [
    "Dropping unnecessary data"
   ]
  },
  {
   "cell_type": "code",
   "execution_count": null,
   "metadata": {
    "id": "-dThGHSYsCVu"
   },
   "outputs": [],
   "source": [
    "to_drop = ['COMMENT_ID', 'AUTHOR', 'DATE']\n",
    "for column in to_drop:\n",
    "  data.drop(column,axis=1,inplace=True)"
   ]
  },
  {
   "cell_type": "code",
   "execution_count": null,
   "metadata": {
    "colab": {
     "base_uri": "https://localhost:8080/"
    },
    "id": "ff9TWFNls6rF",
    "outputId": "019c5444-00e8-490b-e2d3-dda032b05d48"
   },
   "outputs": [
    {
     "name": "stdout",
     "output_type": "stream",
     "text": [
      "<class 'pandas.core.frame.DataFrame'>\n",
      "Int64Index: 1956 entries, 0 to 369\n",
      "Data columns (total 2 columns):\n",
      " #   Column   Non-Null Count  Dtype \n",
      "---  ------   --------------  ----- \n",
      " 0   CONTENT  1956 non-null   object\n",
      " 1   CLASS    1956 non-null   int64 \n",
      "dtypes: int64(1), object(1)\n",
      "memory usage: 45.8+ KB\n"
     ]
    }
   ],
   "source": [
    "data.info()"
   ]
  },
  {
   "cell_type": "code",
   "execution_count": null,
   "metadata": {
    "colab": {
     "base_uri": "https://localhost:8080/",
     "height": 206
    },
    "id": "gMywB3TYzL6j",
    "outputId": "a47627b4-b2ba-4aef-c0f1-f03022936b51"
   },
   "outputs": [
    {
     "data": {
      "text/html": [
       "<div>\n",
       "<style scoped>\n",
       "    .dataframe tbody tr th:only-of-type {\n",
       "        vertical-align: middle;\n",
       "    }\n",
       "\n",
       "    .dataframe tbody tr th {\n",
       "        vertical-align: top;\n",
       "    }\n",
       "\n",
       "    .dataframe thead th {\n",
       "        text-align: right;\n",
       "    }\n",
       "</style>\n",
       "<table border=\"1\" class=\"dataframe\">\n",
       "  <thead>\n",
       "    <tr style=\"text-align: right;\">\n",
       "      <th></th>\n",
       "      <th>CONTENT</th>\n",
       "      <th>CLASS</th>\n",
       "    </tr>\n",
       "  </thead>\n",
       "  <tbody>\n",
       "    <tr>\n",
       "      <th>0</th>\n",
       "      <td>Huh, anyway check out this you[tube] channel: ...</td>\n",
       "      <td>1</td>\n",
       "    </tr>\n",
       "    <tr>\n",
       "      <th>1</th>\n",
       "      <td>Hey guys check out my new channel and our firs...</td>\n",
       "      <td>1</td>\n",
       "    </tr>\n",
       "    <tr>\n",
       "      <th>2</th>\n",
       "      <td>just for test I have to say murdev.com</td>\n",
       "      <td>1</td>\n",
       "    </tr>\n",
       "    <tr>\n",
       "      <th>3</th>\n",
       "      <td>me shaking my sexy ass on my channel enjoy ^_^ ﻿</td>\n",
       "      <td>1</td>\n",
       "    </tr>\n",
       "    <tr>\n",
       "      <th>4</th>\n",
       "      <td>watch?v=vtaRGgvGtWQ   Check this out .﻿</td>\n",
       "      <td>1</td>\n",
       "    </tr>\n",
       "  </tbody>\n",
       "</table>\n",
       "</div>"
      ],
      "text/plain": [
       "                                             CONTENT  CLASS\n",
       "0  Huh, anyway check out this you[tube] channel: ...      1\n",
       "1  Hey guys check out my new channel and our firs...      1\n",
       "2             just for test I have to say murdev.com      1\n",
       "3   me shaking my sexy ass on my channel enjoy ^_^ ﻿      1\n",
       "4            watch?v=vtaRGgvGtWQ   Check this out .﻿      1"
      ]
     },
     "execution_count": 11,
     "metadata": {
      "tags": []
     },
     "output_type": "execute_result"
    }
   ],
   "source": [
    "data.head()"
   ]
  },
  {
   "cell_type": "markdown",
   "metadata": {
    "id": "48l4Pyf4yE1L"
   },
   "source": [
    "Now, the preprocessing stage. It is is an important step as rawdata can have missing,  noisy or inconsistent data.  Without preprocessing the final predictionmight be harmfully influenced by faulty insights.  The result of data preprocessing is the final training set which is given as an input to predictive models and the testing set. Data preprocessing in this project includes tokenization, lower-casing, removing stop-words, lemmatizing and feature extraction. Lemmatizing  was  preferred  over  stemming,  as  it  converts  the  word  to  its  meaningful  baseinstead  of  only  removing  the  last  few  characters  of  words  as  it  is  done  in  stemming.   As  thefeature extraction, a TF-IDF was chosen as it contains information on the importance of wordsand overall shows better results than Bag of Words.\n",
    "\n",
    "\n",
    "\n"
   ]
  },
  {
   "cell_type": "code",
   "execution_count": null,
   "metadata": {
    "id": "sEz0Ipvys8KZ"
   },
   "outputs": [],
   "source": [
    "def process_comment(comment):\n",
    "  comment_alphabetical = \" \".join(re.findall(r\"(?i)\\b[a-z]+\\b\", comment)).lower()  # extract only alphabetical words and lower\n",
    "  comment_processed = ' '.join([token.lemma_ for token in sp(comment_alphabetical) if not token in stop_words]) # filter stop words and lemmatize\n",
    "  return comment_processed\n",
    "  # return ' '.join(comment_processed)\n"
   ]
  },
  {
   "cell_type": "code",
   "execution_count": null,
   "metadata": {
    "id": "bJ6A8cCNze0m"
   },
   "outputs": [],
   "source": [
    "data['CONTENT'] = data['CONTENT'].apply(process_comment)"
   ]
  },
  {
   "cell_type": "code",
   "execution_count": null,
   "metadata": {
    "colab": {
     "base_uri": "https://localhost:8080/",
     "height": 206
    },
    "id": "MoL-slDaz-fx",
    "outputId": "9c47ad9d-383d-494e-f023-056667d81cb0"
   },
   "outputs": [
    {
     "data": {
      "text/html": [
       "<div>\n",
       "<style scoped>\n",
       "    .dataframe tbody tr th:only-of-type {\n",
       "        vertical-align: middle;\n",
       "    }\n",
       "\n",
       "    .dataframe tbody tr th {\n",
       "        vertical-align: top;\n",
       "    }\n",
       "\n",
       "    .dataframe thead th {\n",
       "        text-align: right;\n",
       "    }\n",
       "</style>\n",
       "<table border=\"1\" class=\"dataframe\">\n",
       "  <thead>\n",
       "    <tr style=\"text-align: right;\">\n",
       "      <th></th>\n",
       "      <th>CONTENT</th>\n",
       "      <th>CLASS</th>\n",
       "    </tr>\n",
       "  </thead>\n",
       "  <tbody>\n",
       "    <tr>\n",
       "      <th>0</th>\n",
       "      <td>huh anyway check out this -PRON- tube channel</td>\n",
       "      <td>1</td>\n",
       "    </tr>\n",
       "    <tr>\n",
       "      <th>1</th>\n",
       "      <td>hey guy check out -PRON- new channel and -PRON...</td>\n",
       "      <td>1</td>\n",
       "    </tr>\n",
       "    <tr>\n",
       "      <th>2</th>\n",
       "      <td>just for test i have to say murdev com</td>\n",
       "      <td>1</td>\n",
       "    </tr>\n",
       "    <tr>\n",
       "      <th>3</th>\n",
       "      <td>-PRON- shake -PRON- sexy ass on -PRON- channel...</td>\n",
       "      <td>1</td>\n",
       "    </tr>\n",
       "    <tr>\n",
       "      <th>4</th>\n",
       "      <td>watch v vtarggvgtwq check this out</td>\n",
       "      <td>1</td>\n",
       "    </tr>\n",
       "  </tbody>\n",
       "</table>\n",
       "</div>"
      ],
      "text/plain": [
       "                                             CONTENT  CLASS\n",
       "0      huh anyway check out this -PRON- tube channel      1\n",
       "1  hey guy check out -PRON- new channel and -PRON...      1\n",
       "2             just for test i have to say murdev com      1\n",
       "3  -PRON- shake -PRON- sexy ass on -PRON- channel...      1\n",
       "4                 watch v vtarggvgtwq check this out      1"
      ]
     },
     "execution_count": 14,
     "metadata": {
      "tags": []
     },
     "output_type": "execute_result"
    }
   ],
   "source": [
    "data.head()"
   ]
  },
  {
   "cell_type": "code",
   "execution_count": null,
   "metadata": {
    "id": "WcRy5BfzNw3i"
   },
   "outputs": [],
   "source": [
    "data_content_tfidf = tf_idf_vectorizer.fit_transform(data['CONTENT'])"
   ]
  },
  {
   "cell_type": "markdown",
   "metadata": {
    "id": "lcJzKzkS0lep"
   },
   "source": [
    "As an output, we receive a [1956x3404] matrix, which means that there are 1956 comments and 3404 words across all the comments"
   ]
  },
  {
   "cell_type": "code",
   "execution_count": null,
   "metadata": {
    "colab": {
     "base_uri": "https://localhost:8080/"
    },
    "id": "5JiKIvviN9VI",
    "outputId": "38e2af71-7038-4b10-ef6c-8d1a79192a16"
   },
   "outputs": [
    {
     "data": {
      "text/plain": [
       "<1956x3404 sparse matrix of type '<class 'numpy.float64'>'\n",
       "\twith 23670 stored elements in Compressed Sparse Row format>"
      ]
     },
     "execution_count": 16,
     "metadata": {
      "tags": []
     },
     "output_type": "execute_result"
    }
   ],
   "source": [
    "data_content_tfidf"
   ]
  },
  {
   "cell_type": "code",
   "execution_count": null,
   "metadata": {
    "id": "xPUc8fBa1hkd"
   },
   "outputs": [],
   "source": [
    "X = data_content_tfidf.toarray()\n",
    "y = data['CLASS']"
   ]
  },
  {
   "cell_type": "code",
   "execution_count": null,
   "metadata": {
    "id": "Gm-5Cb-G2fwK"
   },
   "outputs": [],
   "source": [
    "X_train, X_test, y_train, y_test = train_test_split(X, y, train_size=0.8, random_state=24)"
   ]
  },
  {
   "cell_type": "markdown",
   "metadata": {
    "id": "hgh2-ihv2CE_"
   },
   "source": [
    "Class distribution in the combined dataset"
   ]
  },
  {
   "cell_type": "code",
   "execution_count": null,
   "metadata": {
    "colab": {
     "base_uri": "https://localhost:8080/",
     "height": 295
    },
    "id": "ce9HPaFu2Abc",
    "outputId": "5403ff26-f651-4944-af0e-8558dadfe40b"
   },
   "outputs": [
    {
     "data": {
      "image/png": "[encoded data removed]",
      "text/plain": [
       "<Figure size 432x288 with 1 Axes>"
      ]
     },
     "metadata": {
      "needs_background": "light",
      "tags": []
     },
     "output_type": "display_data"
    }
   ],
   "source": [
    "unique, counts = np.unique(y_train, return_counts=True)\n",
    "plt.bar(unique, counts, tick_label = ['non spam', 'spam'])\n",
    "xlocs, xlabs = plt.xticks()\n",
    "for i, v in enumerate(counts):\n",
    "    plt.text(xlocs[i] - 0.08, v+5, v)\n",
    "unique, counts = np.unique(y_test, return_counts=True)\n",
    "xlocs, xlabs = plt.xticks()\n",
    "for i, v in enumerate(counts):\n",
    "    plt.text(xlocs[i] - 0.08, v+5, v)\n",
    "plt.bar(unique, counts, tick_label = ['non spam', 'spam'])\n",
    "\n",
    "plt.title('Class Distribution')\n",
    "plt.xlabel('Class')\n",
    "plt.ylabel('Comments')\n",
    "plt.legend(('Train data', 'Test data'), loc=4)\n",
    "plt.show()"
   ]
  },
  {
   "cell_type": "markdown",
   "metadata": {
    "id": "tttDBR6NJMQm"
   },
   "source": [
    "### Model Training\n"
   ]
  },
  {
   "cell_type": "markdown",
   "metadata": {
    "id": "I11jqq_P0RHr"
   },
   "source": [
    "#### Sklearn Multinomial Bayes\n",
    "Used to compare an implemented version results"
   ]
  },
  {
   "cell_type": "code",
   "execution_count": null,
   "metadata": {
    "colab": {
     "base_uri": "https://localhost:8080/"
    },
    "id": "jvMIKThQ-YaB",
    "outputId": "cb3f8e08-7320-496a-e37e-4d452e05f330"
   },
   "outputs": [
    {
     "name": "stdout",
     "output_type": "stream",
     "text": [
      "Accuracy: 0.9005102040816326\n"
     ]
    }
   ],
   "source": [
    "clf = MultinomialNB()\n",
    "clf.fit(X_train,y_train)\n",
    "score = clf.score(X_test,y_test)\n",
    "print(\"Accuracy:\",score)"
   ]
  },
  {
   "cell_type": "markdown",
   "metadata": {
    "id": "45KtLW6HDN3B"
   },
   "source": [
    "#### Multinomial Naive Bayes implementation\n",
    "During  the  fitting  step,  a  prior  and  likelihood  for  all  the  available  classes  (2  in  our  case)  are calculated. In our case, prior of both classes is a frequency of both types of classes(spam and non spam)in the training dataset.  Likelihood is a probability of every feature falling under a specific class.Likelihood is a matrix of size [numclasses,  numfeatures].  At the prediction step,  a posterior probability  for  every  entry  is  calculated. By using argmax()function, the most probableclass for every entry is returned."
   ]
  },
  {
   "cell_type": "code",
   "execution_count": null,
   "metadata": {
    "id": "FdWStQVhDS4W"
   },
   "outputs": [],
   "source": [
    "class NaiveBayes:\n",
    "    def __init__(self, alpha=1):\n",
    "        self.alpha = alpha  # smoothing parameter\n",
    "\n",
    "    def fit(self, X, y):\n",
    "        num_samples, num_features = X.shape\n",
    "        self._classes = np.unique(y)\n",
    "        num_classes = len(self._classes)\n",
    "        self._priors = np.zeros(num_classes, dtype=np.float64)\n",
    "        self._likelihoods = np.zeros((num_classes, num_features), dtype=np.float64)\n",
    "\n",
    "        # Calculating prior and likelihood for all the available classes\n",
    "        for idx, c in enumerate(self._classes):\n",
    "            X_of_class = X[c == y]\n",
    "            self._priors[idx] = np.log(X_of_class.shape[0] / num_samples)\n",
    "            self._likelihoods[idx] = np.log(((X_of_class.sum(axis=0)) + self.alpha) / (  \n",
    "                np.sum(X_of_class.sum(axis=0) + self.alpha)))\n",
    "            \n",
    "    def predict(self, X):\n",
    "        return [self.predict_entry(x) for x in X]\n",
    "\n",
    "    def predict_entry(self, x):\n",
    "        # Calculate posterior for every entry and return the most probable class\n",
    "        posteriors = []\n",
    "        for idx, cls in enumerate(self._classes):\n",
    "            prior = self._priors[idx]\n",
    "            likelihood = self._likelihoods[idx]\n",
    "            posterior = np.sum(likelihood * x) + prior\n",
    "            posteriors.append(posterior)\n",
    "        return self._classes[np.argmax(posteriors)]\n",
    "\n",
    "    def get_accuracy(self, X, y_true):\n",
    "      y_pred = self.predict(X)\n",
    "      accuracy = np.sum(y_true == y_pred) / len(y_true)\n",
    "      return accuracy\n"
   ]
  },
  {
   "cell_type": "code",
   "execution_count": null,
   "metadata": {
    "colab": {
     "base_uri": "https://localhost:8080/"
    },
    "id": "onCS6RE7DlOF",
    "outputId": "065b71df-dc69-422a-abd4-cc9e9e097d20"
   },
   "outputs": [
    {
     "name": "stdout",
     "output_type": "stream",
     "text": [
      "Our Naive Bayes classification accuracy 0.9005102040816326\n"
     ]
    }
   ],
   "source": [
    "nb = NaiveBayes()\n",
    "nb.fit(X_train, y_train)\n",
    "predictions = nb.predict(X_test)\n",
    "\n",
    "print(\"Our Naive Bayes classification accuracy\", nb.get_accuracy(X_test, y_test))"
   ]
  },
  {
   "cell_type": "code",
   "execution_count": null,
   "metadata": {
    "id": "regnIbFF9X5Z"
   },
   "outputs": [],
   "source": [
    "preds = nb.predict(X_test)\n",
    "f1 = f1_score(y_test, preds) \n",
    "aps = average_precision_score(y_test, preds) \n",
    "score = accuracy_score(y_test,preds)\n",
    "mcm = confusion_matrix(y_test,preds) \n",
    "tn = mcm[0, 0]\n",
    "tp = mcm[1, 1]\n",
    "fn = mcm[1, 0]\n",
    "fp = mcm[0, 1]\n",
    "sensitivity = (tp / (tp + fn))\n",
    "specificity = (tn / (tn + fp))\n",
    "roc = roc_auc_score(y_test, preds) \n",
    "\n",
    "row_metrics = pd.DataFrame([['MNB Implementation', score, roc, f1, aps, \n",
    "                          sensitivity, specificity] \n",
    "                         ], columns = metrics_columns)\n",
    " \n",
    "metrics_df = metrics_df.append(row_metrics, ignore_index=True)\n",
    "matrices.append(mcm)"
   ]
  },
  {
   "cell_type": "code",
   "execution_count": null,
   "metadata": {
    "colab": {
     "base_uri": "https://localhost:8080/",
     "height": 81
    },
    "id": "TuHJw4jh9raM",
    "outputId": "6361d312-60ba-4727-d6c4-aef6653d8698"
   },
   "outputs": [
    {
     "data": {
      "text/html": [
       "<div>\n",
       "<style scoped>\n",
       "    .dataframe tbody tr th:only-of-type {\n",
       "        vertical-align: middle;\n",
       "    }\n",
       "\n",
       "    .dataframe tbody tr th {\n",
       "        vertical-align: top;\n",
       "    }\n",
       "\n",
       "    .dataframe thead th {\n",
       "        text-align: right;\n",
       "    }\n",
       "</style>\n",
       "<table border=\"1\" class=\"dataframe\">\n",
       "  <thead>\n",
       "    <tr style=\"text-align: right;\">\n",
       "      <th></th>\n",
       "      <th>Algorithm</th>\n",
       "      <th>Accuracy</th>\n",
       "      <th>ROC_AUC</th>\n",
       "      <th>F1</th>\n",
       "      <th>APS</th>\n",
       "      <th>Sensitivity</th>\n",
       "      <th>Specificity</th>\n",
       "    </tr>\n",
       "  </thead>\n",
       "  <tbody>\n",
       "    <tr>\n",
       "      <th>0</th>\n",
       "      <td>MNB Implementation</td>\n",
       "      <td>0.90051</td>\n",
       "      <td>0.899401</td>\n",
       "      <td>0.906475</td>\n",
       "      <td>0.855659</td>\n",
       "      <td>0.935644</td>\n",
       "      <td>0.863158</td>\n",
       "    </tr>\n",
       "  </tbody>\n",
       "</table>\n",
       "</div>"
      ],
      "text/plain": [
       "            Algorithm  Accuracy   ROC_AUC  ...       APS  Sensitivity  Specificity\n",
       "0  MNB Implementation   0.90051  0.899401  ...  0.855659     0.935644     0.863158\n",
       "\n",
       "[1 rows x 7 columns]"
      ]
     },
     "execution_count": 24,
     "metadata": {
      "tags": []
     },
     "output_type": "execute_result"
    }
   ],
   "source": [
    "metrics_df.head()"
   ]
  },
  {
   "cell_type": "markdown",
   "metadata": {
    "id": "WfZkoEqJND8T"
   },
   "source": [
    "#### BERT Implementation"
   ]
  },
  {
   "cell_type": "markdown",
   "metadata": {
    "id": "y5Knsn0JOh5z"
   },
   "source": [
    "Split among Train-Test-Validation"
   ]
  },
  {
   "cell_type": "code",
   "execution_count": null,
   "metadata": {
    "id": "96golsDENKUb"
   },
   "outputs": [],
   "source": [
    "X = data['CONTENT']\n",
    "y = data['CLASS']\n",
    "\n",
    "X_train, temp_text, y_train, temp_labels = train_test_split(X, y, test_size=0.3, stratify=y)\n",
    "\n",
    "# we will use temp_text and temp_labels to create validation and test set\n",
    "X_val, X_test, y_val, y_test = train_test_split(temp_text, temp_labels, test_size=0.67, stratify=temp_labels)"
   ]
  },
  {
   "cell_type": "markdown",
   "metadata": {
    "id": "DiNlLPWaPUz1"
   },
   "source": [
    "Pretrained BERT"
   ]
  },
  {
   "cell_type": "code",
   "execution_count": null,
   "metadata": {
    "id": "FHAzHPeK6nvF"
   },
   "outputs": [],
   "source": [
    "# Pre-trained Model\n",
    "model_class, tokenizer_class, pretrained_weights = (ppb.BertModel, ppb.BertTokenizer, 'bert-base-uncased')\n",
    "\n",
    "# Load pretrained model/tokenizer\n",
    "tokenizer = tokenizer_class.from_pretrained(pretrained_weights)"
   ]
  },
  {
   "cell_type": "code",
   "execution_count": null,
   "metadata": {
    "id": "sbIrTpbaHb35"
   },
   "outputs": [],
   "source": [
    "# Tokenization - give each word a token\n",
    "tokenized_val = X_val.apply((lambda x: tokenizer.encode(x[:512], add_special_tokens=True)))\n",
    "tokenized_train = X_train.apply((lambda x: tokenizer.encode(x[:512], add_special_tokens=True)))\n",
    "tokenized_test = X_test.apply((lambda x: tokenizer.encode(x[:512], add_special_tokens=True)))\n",
    "\n",
    "# tokenized = np.array([tokenizer.tokenize(x.split()) for x in X])"
   ]
  },
  {
   "cell_type": "markdown",
   "metadata": {
    "id": "6TTRyAjVIzV6"
   },
   "source": [
    "After tokenization, tokenized is a list of sentences; each sentence is represented as a list of tokens. We want BERT to process our examples all at once (as one batch). It's just faster that way. For that reason, we need to pad all lists to the same size, so we can represent the input as one 2-d array, rather than a list of lists (of different lengths)."
   ]
  },
  {
   "cell_type": "code",
   "execution_count": null,
   "metadata": {
    "id": "-G20yCERI3Eq"
   },
   "outputs": [],
   "source": [
    "# padding \n",
    "\n",
    "def padding(token):\n",
    "  max_len = 0\n",
    "  for i in token.values:\n",
    "      if len(i) > max_len:\n",
    "          max_len = len(i)\n",
    "\n",
    "  return np.array([i + [0]*(max_len-len(i)) for i in token.values])\n",
    "\n",
    "padded_val = padding(tokenized_val)\n",
    "padded_train = padding(tokenized_train)\n",
    "padded_test = padding(tokenized_test)"
   ]
  },
  {
   "cell_type": "code",
   "execution_count": null,
   "metadata": {
    "colab": {
     "base_uri": "https://localhost:8080/"
    },
    "id": "Zx91G4vVI3Hc",
    "outputId": "cba42b87-c86b-4d6e-d1db-4258bb627aff"
   },
   "outputs": [
    {
     "data": {
      "text/plain": [
       "(1369, 159)"
      ]
     },
     "execution_count": 29,
     "metadata": {
      "tags": []
     },
     "output_type": "execute_result"
    }
   ],
   "source": [
    "np.array(padded_train).shape"
   ]
  },
  {
   "cell_type": "markdown",
   "metadata": {
    "id": "nZL--hjUI91t"
   },
   "source": [
    "If we directly send padded to BERT, that would slightly confuse it. We need to create another variable to tell it to ignore (mask) the padding we've added when it's processing its input. That's what attention_mask is:"
   ]
  },
  {
   "cell_type": "code",
   "execution_count": null,
   "metadata": {
    "id": "ADVfPyPuI7DZ"
   },
   "outputs": [],
   "source": [
    "attention_mask_val = np.where(padded_val != 0, 1, 0)\n",
    "attention_mask_train = np.where(padded_train != 0, 1, 0)\n",
    "attention_mask_test = np.where(padded_test != 0, 1, 0)\n",
    "\n",
    "train_input_ids = padded_train\n",
    "train_attention_mask = attention_mask_train\n",
    "\n",
    "val_input_ids = padded_val\n",
    "val_attention_mask = attention_mask_val\n",
    "\n",
    "test_input_ids = padded_test\n",
    "test_attention_mask = attention_mask_test"
   ]
  },
  {
   "cell_type": "code",
   "execution_count": null,
   "metadata": {
    "id": "ey4ylT8xqsI7"
   },
   "outputs": [],
   "source": [
    "# Edit > Notebook Setting > Switch to TPU"
   ]
  },
  {
   "cell_type": "code",
   "execution_count": null,
   "metadata": {
    "colab": {
     "base_uri": "https://localhost:8080/"
    },
    "id": "F3L9rPeJ3W4j",
    "outputId": "6dc27944-96e8-42f1-de9e-965255b60ee5"
   },
   "outputs": [
    {
     "name": "stderr",
     "output_type": "stream",
     "text": [
      "INFO:absl:Entering into master device scope: /job:worker/replica:0/task:0/device:CPU:0\n"
     ]
    },
    {
     "name": "stdout",
     "output_type": "stream",
     "text": [
      "INFO:tensorflow:Initializing the TPU system: grpc://10.113.183.74:8470\n"
     ]
    },
    {
     "name": "stderr",
     "output_type": "stream",
     "text": [
      "INFO:tensorflow:Initializing the TPU system: grpc://10.113.183.74:8470\n"
     ]
    },
    {
     "name": "stdout",
     "output_type": "stream",
     "text": [
      "INFO:tensorflow:Clearing out eager caches\n"
     ]
    },
    {
     "name": "stderr",
     "output_type": "stream",
     "text": [
      "INFO:tensorflow:Clearing out eager caches\n"
     ]
    },
    {
     "name": "stdout",
     "output_type": "stream",
     "text": [
      "INFO:tensorflow:Finished initializing TPU system.\n"
     ]
    },
    {
     "name": "stderr",
     "output_type": "stream",
     "text": [
      "INFO:tensorflow:Finished initializing TPU system.\n"
     ]
    },
    {
     "name": "stdout",
     "output_type": "stream",
     "text": [
      "All devices:  [LogicalDevice(name='/job:worker/replica:0/task:0/device:TPU:7', device_type='TPU'), LogicalDevice(name='/job:worker/replica:0/task:0/device:TPU:6', device_type='TPU'), LogicalDevice(name='/job:worker/replica:0/task:0/device:TPU:4', device_type='TPU'), LogicalDevice(name='/job:worker/replica:0/task:0/device:TPU:3', device_type='TPU'), LogicalDevice(name='/job:worker/replica:0/task:0/device:TPU:1', device_type='TPU'), LogicalDevice(name='/job:worker/replica:0/task:0/device:TPU:5', device_type='TPU'), LogicalDevice(name='/job:worker/replica:0/task:0/device:TPU:2', device_type='TPU'), LogicalDevice(name='/job:worker/replica:0/task:0/device:TPU:0', device_type='TPU')]\n"
     ]
    }
   ],
   "source": [
    "# Note that the `tpu` argument is for Colab-only\n",
    "resolver = tf.distribute.cluster_resolver.TPUClusterResolver(tpu='grpc://' + os.environ['COLAB_TPU_ADDR'])\n",
    "\n",
    "tf.config.experimental_connect_to_cluster(resolver)\n",
    "tf.tpu.experimental.initialize_tpu_system(resolver)\n",
    "print(\"All devices: \", tf.config.list_logical_devices('TPU'))"
   ]
  },
  {
   "cell_type": "code",
   "execution_count": null,
   "metadata": {
    "colab": {
     "base_uri": "https://localhost:8080/"
    },
    "id": "GWW_Hvr-4Zd9",
    "outputId": "802da248-f753-4c74-d0e3-7af9c062e824"
   },
   "outputs": [
    {
     "name": "stdout",
     "output_type": "stream",
     "text": [
      "INFO:tensorflow:Found TPU system:\n"
     ]
    },
    {
     "name": "stderr",
     "output_type": "stream",
     "text": [
      "INFO:tensorflow:Found TPU system:\n"
     ]
    },
    {
     "name": "stdout",
     "output_type": "stream",
     "text": [
      "INFO:tensorflow:*** Num TPU Cores: 8\n"
     ]
    },
    {
     "name": "stderr",
     "output_type": "stream",
     "text": [
      "INFO:tensorflow:*** Num TPU Cores: 8\n"
     ]
    },
    {
     "name": "stdout",
     "output_type": "stream",
     "text": [
      "INFO:tensorflow:*** Num TPU Workers: 1\n"
     ]
    },
    {
     "name": "stderr",
     "output_type": "stream",
     "text": [
      "INFO:tensorflow:*** Num TPU Workers: 1\n"
     ]
    },
    {
     "name": "stdout",
     "output_type": "stream",
     "text": [
      "INFO:tensorflow:*** Num TPU Cores Per Worker: 8\n"
     ]
    },
    {
     "name": "stderr",
     "output_type": "stream",
     "text": [
      "INFO:tensorflow:*** Num TPU Cores Per Worker: 8\n"
     ]
    },
    {
     "name": "stdout",
     "output_type": "stream",
     "text": [
      "INFO:tensorflow:*** Available Device: _DeviceAttributes(/job:localhost/replica:0/task:0/device:CPU:0, CPU, 0, 0)\n"
     ]
    },
    {
     "name": "stderr",
     "output_type": "stream",
     "text": [
      "INFO:tensorflow:*** Available Device: _DeviceAttributes(/job:localhost/replica:0/task:0/device:CPU:0, CPU, 0, 0)\n"
     ]
    },
    {
     "name": "stdout",
     "output_type": "stream",
     "text": [
      "INFO:tensorflow:*** Available Device: _DeviceAttributes(/job:worker/replica:0/task:0/device:CPU:0, CPU, 0, 0)\n"
     ]
    },
    {
     "name": "stderr",
     "output_type": "stream",
     "text": [
      "INFO:tensorflow:*** Available Device: _DeviceAttributes(/job:worker/replica:0/task:0/device:CPU:0, CPU, 0, 0)\n"
     ]
    },
    {
     "name": "stdout",
     "output_type": "stream",
     "text": [
      "INFO:tensorflow:*** Available Device: _DeviceAttributes(/job:worker/replica:0/task:0/device:TPU:0, TPU, 0, 0)\n"
     ]
    },
    {
     "name": "stderr",
     "output_type": "stream",
     "text": [
      "INFO:tensorflow:*** Available Device: _DeviceAttributes(/job:worker/replica:0/task:0/device:TPU:0, TPU, 0, 0)\n"
     ]
    },
    {
     "name": "stdout",
     "output_type": "stream",
     "text": [
      "INFO:tensorflow:*** Available Device: _DeviceAttributes(/job:worker/replica:0/task:0/device:TPU:1, TPU, 0, 0)\n"
     ]
    },
    {
     "name": "stderr",
     "output_type": "stream",
     "text": [
      "INFO:tensorflow:*** Available Device: _DeviceAttributes(/job:worker/replica:0/task:0/device:TPU:1, TPU, 0, 0)\n"
     ]
    },
    {
     "name": "stdout",
     "output_type": "stream",
     "text": [
      "INFO:tensorflow:*** Available Device: _DeviceAttributes(/job:worker/replica:0/task:0/device:TPU:2, TPU, 0, 0)\n"
     ]
    },
    {
     "name": "stderr",
     "output_type": "stream",
     "text": [
      "INFO:tensorflow:*** Available Device: _DeviceAttributes(/job:worker/replica:0/task:0/device:TPU:2, TPU, 0, 0)\n"
     ]
    },
    {
     "name": "stdout",
     "output_type": "stream",
     "text": [
      "INFO:tensorflow:*** Available Device: _DeviceAttributes(/job:worker/replica:0/task:0/device:TPU:3, TPU, 0, 0)\n"
     ]
    },
    {
     "name": "stderr",
     "output_type": "stream",
     "text": [
      "INFO:tensorflow:*** Available Device: _DeviceAttributes(/job:worker/replica:0/task:0/device:TPU:3, TPU, 0, 0)\n"
     ]
    },
    {
     "name": "stdout",
     "output_type": "stream",
     "text": [
      "INFO:tensorflow:*** Available Device: _DeviceAttributes(/job:worker/replica:0/task:0/device:TPU:4, TPU, 0, 0)\n"
     ]
    },
    {
     "name": "stderr",
     "output_type": "stream",
     "text": [
      "INFO:tensorflow:*** Available Device: _DeviceAttributes(/job:worker/replica:0/task:0/device:TPU:4, TPU, 0, 0)\n"
     ]
    },
    {
     "name": "stdout",
     "output_type": "stream",
     "text": [
      "INFO:tensorflow:*** Available Device: _DeviceAttributes(/job:worker/replica:0/task:0/device:TPU:5, TPU, 0, 0)\n"
     ]
    },
    {
     "name": "stderr",
     "output_type": "stream",
     "text": [
      "INFO:tensorflow:*** Available Device: _DeviceAttributes(/job:worker/replica:0/task:0/device:TPU:5, TPU, 0, 0)\n"
     ]
    },
    {
     "name": "stdout",
     "output_type": "stream",
     "text": [
      "INFO:tensorflow:*** Available Device: _DeviceAttributes(/job:worker/replica:0/task:0/device:TPU:6, TPU, 0, 0)\n"
     ]
    },
    {
     "name": "stderr",
     "output_type": "stream",
     "text": [
      "INFO:tensorflow:*** Available Device: _DeviceAttributes(/job:worker/replica:0/task:0/device:TPU:6, TPU, 0, 0)\n"
     ]
    },
    {
     "name": "stdout",
     "output_type": "stream",
     "text": [
      "INFO:tensorflow:*** Available Device: _DeviceAttributes(/job:worker/replica:0/task:0/device:TPU:7, TPU, 0, 0)\n"
     ]
    },
    {
     "name": "stderr",
     "output_type": "stream",
     "text": [
      "INFO:tensorflow:*** Available Device: _DeviceAttributes(/job:worker/replica:0/task:0/device:TPU:7, TPU, 0, 0)\n"
     ]
    },
    {
     "name": "stdout",
     "output_type": "stream",
     "text": [
      "INFO:tensorflow:*** Available Device: _DeviceAttributes(/job:worker/replica:0/task:0/device:TPU_SYSTEM:0, TPU_SYSTEM, 0, 0)\n"
     ]
    },
    {
     "name": "stderr",
     "output_type": "stream",
     "text": [
      "INFO:tensorflow:*** Available Device: _DeviceAttributes(/job:worker/replica:0/task:0/device:TPU_SYSTEM:0, TPU_SYSTEM, 0, 0)\n"
     ]
    },
    {
     "name": "stdout",
     "output_type": "stream",
     "text": [
      "INFO:tensorflow:*** Available Device: _DeviceAttributes(/job:worker/replica:0/task:0/device:XLA_CPU:0, XLA_CPU, 0, 0)\n"
     ]
    },
    {
     "name": "stderr",
     "output_type": "stream",
     "text": [
      "INFO:tensorflow:*** Available Device: _DeviceAttributes(/job:worker/replica:0/task:0/device:XLA_CPU:0, XLA_CPU, 0, 0)\n"
     ]
    }
   ],
   "source": [
    "strategy = tf.distribute.TPUStrategy(resolver)"
   ]
  },
  {
   "cell_type": "markdown",
   "metadata": {
    "id": "JGCh-Pb5rW8k"
   },
   "source": [
    "Creating the model to each device for parallel training.Model needs to be created and built within the strategy’s scope"
   ]
  },
  {
   "cell_type": "code",
   "execution_count": null,
   "metadata": {
    "colab": {
     "base_uri": "https://localhost:8080/"
    },
    "id": "8UfOGBHn4WyQ",
    "outputId": "40fadddb-210e-4089-e9ab-f7ce1df97dff"
   },
   "outputs": [
    {
     "name": "stderr",
     "output_type": "stream",
     "text": [
      "All model checkpoint layers were used when initializing TFBertForSequenceClassification.\n",
      "\n",
      "Some layers of TFBertForSequenceClassification were not initialized from the model checkpoint at bert-base-uncased and are newly initialized: ['classifier']\n",
      "You should probably TRAIN this model on a down-stream task to be able to use it for predictions and inference.\n"
     ]
    },
    {
     "name": "stdout",
     "output_type": "stream",
     "text": [
      "WARNING:tensorflow:AutoGraph could not transform <bound method Socket.send of <zmq.sugar.socket.Socket object at 0x7f9e844a05f8>> and will run it as-is.\n",
      "Please report this to the TensorFlow team. When filing the bug, set the verbosity to 10 (on Linux, `export AUTOGRAPH_VERBOSITY=10`) and attach the full output.\n",
      "Cause: <cyfunction Socket.send at 0x7f9ea1e52d90> is not a module, class, method, function, traceback, frame, or code object\n",
      "To silence this warning, decorate the function with @tf.autograph.experimental.do_not_convert\n"
     ]
    },
    {
     "name": "stderr",
     "output_type": "stream",
     "text": [
      "The parameters `output_attentions`, `output_hidden_states` and `use_cache` cannot be updated when calling a model.They have to be set to True/False in the config object (i.e.: `config=XConfig.from_pretrained('name', output_attentions=True)`).WARNING:tensorflow:AutoGraph could not transform <bound method Socket.send of <zmq.sugar.socket.Socket object at 0x7f9e844a05f8>> and will run it as-is.\n",
      "Please report this to the TensorFlow team. When filing the bug, set the verbosity to 10 (on Linux, `export AUTOGRAPH_VERBOSITY=10`) and attach the full output.\n",
      "Cause: <cyfunction Socket.send at 0x7f9ea1e52d90> is not a module, class, method, function, traceback, frame, or code object\n",
      "To silence this warning, decorate the function with @tf.autograph.experimental.do_not_convert\n"
     ]
    },
    {
     "name": "stdout",
     "output_type": "stream",
     "text": [
      "WARNING: AutoGraph could not transform <bound method Socket.send of <zmq.sugar.socket.Socket object at 0x7f9e844a05f8>> and will run it as-is.\n",
      "Please report this to the TensorFlow team. When filing the bug, set the verbosity to 10 (on Linux, `export AUTOGRAPH_VERBOSITY=10`) and attach the full output.\n",
      "Cause: <cyfunction Socket.send at 0x7f9ea1e52d90> is not a module, class, method, function, traceback, frame, or code object\n",
      "To silence this warning, decorate the function with @tf.autograph.experimental.do_not_convert\n"
     ]
    },
    {
     "name": "stderr",
     "output_type": "stream",
     "text": [
      "\n"
     ]
    },
    {
     "name": "stdout",
     "output_type": "stream",
     "text": [
      "WARNING:tensorflow:AutoGraph could not transform <function wrap at 0x7f9e9f7df8c8> and will run it as-is.\n",
      "Cause: while/else statement not yet supported\n",
      "To silence this warning, decorate the function with @tf.autograph.experimental.do_not_convert\n"
     ]
    },
    {
     "name": "stderr",
     "output_type": "stream",
     "text": [
      "The parameter `return_dict` cannot be set in graph mode and will always be set to `True`.\n",
      "WARNING:tensorflow:AutoGraph could not transform <function wrap at 0x7f9e9f7df8c8> and will run it as-is.\n",
      "Cause: while/else statement not yet supported\n",
      "To silence this warning, decorate the function with @tf.autograph.experimental.do_not_convert\n"
     ]
    },
    {
     "name": "stdout",
     "output_type": "stream",
     "text": [
      "WARNING: AutoGraph could not transform <function wrap at 0x7f9e9f7df8c8> and will run it as-is.\n",
      "Cause: while/else statement not yet supported\n",
      "To silence this warning, decorate the function with @tf.autograph.experimental.do_not_convert\n"
     ]
    }
   ],
   "source": [
    "def create_model():\n",
    "    # bert-large-cased\n",
    "    bert = TFBertForSequenceClassification.from_pretrained('bert-base-uncased')\n",
    "    inputs = tf.keras.layers.Input((None,), dtype=tf.int32)\n",
    "    mask = tf.keras.layers.Input((None,), dtype=tf.int32)\n",
    "    preds = bert(\n",
    "        inputs,\n",
    "        mask,\n",
    "        training=True)[0]\n",
    "\n",
    "    return tf.keras.Model([inputs, mask], preds)\n",
    "\n",
    "\n",
    "with strategy.scope():\n",
    "    model = create_model()\n",
    "    optimizer = tf.keras.optimizers.Adam(learning_rate=3e-5, epsilon=1e-08)\n",
    "    loss_fun = tf.keras.losses.SparseCategoricalCrossentropy(from_logits=True, reduction='none')\n",
    "    model.compile(optimizer=optimizer, loss=loss_fun)"
   ]
  },
  {
   "cell_type": "code",
   "execution_count": null,
   "metadata": {
    "colab": {
     "base_uri": "https://localhost:8080/"
    },
    "id": "YffNC0wTDri-",
    "outputId": "5ed45916-72a5-4f89-964e-48692e220657"
   },
   "outputs": [
    {
     "data": {
      "text/plain": [
       "(193, 159)"
      ]
     },
     "execution_count": 35,
     "metadata": {
      "tags": []
     },
     "output_type": "execute_result"
    }
   ],
   "source": [
    "y_train.shape\n",
    "val_attention_mask.shape"
   ]
  },
  {
   "cell_type": "code",
   "execution_count": null,
   "metadata": {
    "colab": {
     "base_uri": "https://localhost:8080/"
    },
    "id": "DKC9HNpa42_g",
    "outputId": "ccdd51e1-56ea-4b64-a78b-ff737d8961c8"
   },
   "outputs": [
    {
     "name": "stdout",
     "output_type": "stream",
     "text": [
      "Epoch 1/2\n"
     ]
    },
    {
     "name": "stderr",
     "output_type": "stream",
     "text": [
      "The parameters `output_attentions`, `output_hidden_states` and `use_cache` cannot be updated when calling a model.They have to be set to True/False in the config object (i.e.: `config=XConfig.from_pretrained('name', output_attentions=True)`).\n",
      "The parameter `return_dict` cannot be set in graph mode and will always be set to `True`.\n",
      "The parameters `output_attentions`, `output_hidden_states` and `use_cache` cannot be updated when calling a model.They have to be set to True/False in the config object (i.e.: `config=XConfig.from_pretrained('name', output_attentions=True)`).\n",
      "The parameter `return_dict` cannot be set in graph mode and will always be set to `True`.\n"
     ]
    },
    {
     "name": "stdout",
     "output_type": "stream",
     "text": [
      "86/86 [==============================] - ETA: 0s - loss: 0.4406"
     ]
    },
    {
     "name": "stderr",
     "output_type": "stream",
     "text": [
      "The parameters `output_attentions`, `output_hidden_states` and `use_cache` cannot be updated when calling a model.They have to be set to True/False in the config object (i.e.: `config=XConfig.from_pretrained('name', output_attentions=True)`).\n",
      "The parameter `return_dict` cannot be set in graph mode and will always be set to `True`.\n"
     ]
    },
    {
     "name": "stdout",
     "output_type": "stream",
     "text": [
      "86/86 [==============================] - 80s 154ms/step - loss: 0.4389 - val_loss: 0.0997\n",
      "Epoch 2/2\n",
      "86/86 [==============================] - 7s 77ms/step - loss: 0.0980 - val_loss: 0.1081\n"
     ]
    },
    {
     "data": {
      "text/plain": [
       "<tensorflow.python.keras.callbacks.History at 0x7f9daa9f7a90>"
      ]
     },
     "execution_count": 36,
     "metadata": {
      "tags": []
     },
     "output_type": "execute_result"
    }
   ],
   "source": [
    "model.fit(\n",
    "    [train_input_ids, train_attention_mask],\n",
    "    y_train,\n",
    "    validation_data = ([val_input_ids, val_attention_mask], y_val),\n",
    "    validation_steps=val_input_ids.shape[0] // 16,\n",
    "    batch_size=16,\n",
    "    epochs=2,\n",
    ")"
   ]
  },
  {
   "cell_type": "code",
   "execution_count": null,
   "metadata": {
    "id": "PITGvXlBot0t"
   },
   "outputs": [],
   "source": [
    "# Save the trained model\n",
    "#model.save_weights(\"tpu-model.h5\")"
   ]
  },
  {
   "cell_type": "code",
   "execution_count": null,
   "metadata": {
    "colab": {
     "base_uri": "https://localhost:8080/"
    },
    "id": "sSD8lcplIRoX",
    "outputId": "1a5d387d-b333-4d36-d639-9f528ddcc2c5"
   },
   "outputs": [
    {
     "name": "stderr",
     "output_type": "stream",
     "text": [
      "The parameters `output_attentions`, `output_hidden_states` and `use_cache` cannot be updated when calling a model.They have to be set to True/False in the config object (i.e.: `config=XConfig.from_pretrained('name', output_attentions=True)`).\n",
      "The parameter `return_dict` cannot be set in graph mode and will always be set to `True`.\n"
     ]
    }
   ],
   "source": [
    "pred = model.predict([test_input_ids, test_attention_mask])"
   ]
  },
  {
   "cell_type": "code",
   "execution_count": null,
   "metadata": {
    "colab": {
     "base_uri": "https://localhost:8080/"
    },
    "id": "xdIoVhYRYioq",
    "outputId": "2f431200-2d97-4eea-afb5-494de144a939"
   },
   "outputs": [
    {
     "name": "stdout",
     "output_type": "stream",
     "text": [
      "              precision    recall  f1-score   support\n",
      "\n",
      "           0       0.98      0.98      0.98       191\n",
      "           1       0.98      0.98      0.98       203\n",
      "\n",
      "    accuracy                           0.98       394\n",
      "   macro avg       0.98      0.98      0.98       394\n",
      "weighted avg       0.98      0.98      0.98       394\n",
      "\n"
     ]
    }
   ],
   "source": [
    "preds = np.argmax(pred, axis = 1)\n",
    "print(classification_report(y_test, preds))"
   ]
  },
  {
   "cell_type": "code",
   "execution_count": null,
   "metadata": {
    "id": "tm1WygPJ-lK2"
   },
   "outputs": [],
   "source": [
    "pred = model.predict([test_input_ids, test_attention_mask])\n",
    "preds = np.argmax(pred, axis = 1)\n",
    "f1 = f1_score(y_test, preds) \n",
    "aps = average_precision_score(y_test, preds) \n",
    "score = accuracy_score(y_test,preds)\n",
    "mcm = confusion_matrix(y_test,preds) \n",
    "tn = mcm[0, 0]\n",
    "tp = mcm[1, 1]\n",
    "fn = mcm[1, 0]\n",
    "fp = mcm[0, 1]\n",
    "sensitivity = (tp / (tp + fn))\n",
    "specificity = (tn / (tn + fp))\n",
    "roc = roc_auc_score(y_test, preds) \n",
    "\n",
    "row_metrics = pd.DataFrame([['BERT', score, roc, f1, aps, \n",
    "                          sensitivity, specificity] \n",
    "                         ], columns = metrics_columns)\n",
    " \n",
    "metrics_df = metrics_df.append(row_metrics, ignore_index=True)\n",
    "matrices.append(mcm)"
   ]
  },
  {
   "cell_type": "code",
   "execution_count": null,
   "metadata": {
    "colab": {
     "base_uri": "https://localhost:8080/"
    },
    "id": "OGvcuO04MbV2",
    "outputId": "9a7d9d1f-56ca-4be2-b65f-c3ae73d7c852"
   },
   "outputs": [
    {
     "data": {
      "text/plain": [
       "(2, 2)"
      ]
     },
     "execution_count": 41,
     "metadata": {
      "tags": []
     },
     "output_type": "execute_result"
    }
   ],
   "source": [
    "mcm.shape"
   ]
  },
  {
   "cell_type": "code",
   "execution_count": null,
   "metadata": {
    "colab": {
     "base_uri": "https://localhost:8080/",
     "height": 112
    },
    "id": "ZbnG-NEcA7c2",
    "outputId": "3493a5fb-11d3-4a12-df64-251748a2f337"
   },
   "outputs": [
    {
     "data": {
      "text/html": [
       "<div>\n",
       "<style scoped>\n",
       "    .dataframe tbody tr th:only-of-type {\n",
       "        vertical-align: middle;\n",
       "    }\n",
       "\n",
       "    .dataframe tbody tr th {\n",
       "        vertical-align: top;\n",
       "    }\n",
       "\n",
       "    .dataframe thead th {\n",
       "        text-align: right;\n",
       "    }\n",
       "</style>\n",
       "<table border=\"1\" class=\"dataframe\">\n",
       "  <thead>\n",
       "    <tr style=\"text-align: right;\">\n",
       "      <th></th>\n",
       "      <th>Algorithm</th>\n",
       "      <th>Accuracy</th>\n",
       "      <th>ROC_AUC</th>\n",
       "      <th>F1</th>\n",
       "      <th>APS</th>\n",
       "      <th>Sensitivity</th>\n",
       "      <th>Specificity</th>\n",
       "    </tr>\n",
       "  </thead>\n",
       "  <tbody>\n",
       "    <tr>\n",
       "      <th>0</th>\n",
       "      <td>MNB Implementation</td>\n",
       "      <td>0.900510</td>\n",
       "      <td>0.899401</td>\n",
       "      <td>0.906475</td>\n",
       "      <td>0.855659</td>\n",
       "      <td>0.935644</td>\n",
       "      <td>0.863158</td>\n",
       "    </tr>\n",
       "    <tr>\n",
       "      <th>1</th>\n",
       "      <td>BERT</td>\n",
       "      <td>0.969543</td>\n",
       "      <td>0.969360</td>\n",
       "      <td>0.970588</td>\n",
       "      <td>0.954755</td>\n",
       "      <td>0.975369</td>\n",
       "      <td>0.963351</td>\n",
       "    </tr>\n",
       "  </tbody>\n",
       "</table>\n",
       "</div>"
      ],
      "text/plain": [
       "            Algorithm  Accuracy   ROC_AUC  ...       APS  Sensitivity  Specificity\n",
       "0  MNB Implementation  0.900510  0.899401  ...  0.855659     0.935644     0.863158\n",
       "1                BERT  0.969543  0.969360  ...  0.954755     0.975369     0.963351\n",
       "\n",
       "[2 rows x 7 columns]"
      ]
     },
     "execution_count": 42,
     "metadata": {
      "tags": []
     },
     "output_type": "execute_result"
    }
   ],
   "source": [
    "metrics_df.head()"
   ]
  },
  {
   "cell_type": "markdown",
   "metadata": {
    "id": "yJhwB3Oala3I"
   },
   "source": [
    "## Model Metrics"
   ]
  },
  {
   "cell_type": "markdown",
   "metadata": {
    "id": "Z9_YHMrTllqb"
   },
   "source": [
    "### Data Visualization"
   ]
  },
  {
   "cell_type": "code",
   "execution_count": null,
   "metadata": {
    "colab": {
     "base_uri": "https://localhost:8080/",
     "height": 112
    },
    "id": "4uQJnF7T2yM-",
    "outputId": "e80c4944-03d8-4806-93ff-e82e4b101533"
   },
   "outputs": [
    {
     "data": {
      "text/html": [
       "<div>\n",
       "<style scoped>\n",
       "    .dataframe tbody tr th:only-of-type {\n",
       "        vertical-align: middle;\n",
       "    }\n",
       "\n",
       "    .dataframe tbody tr th {\n",
       "        vertical-align: top;\n",
       "    }\n",
       "\n",
       "    .dataframe thead th {\n",
       "        text-align: right;\n",
       "    }\n",
       "</style>\n",
       "<table border=\"1\" class=\"dataframe\">\n",
       "  <thead>\n",
       "    <tr style=\"text-align: right;\">\n",
       "      <th></th>\n",
       "      <th>Algorithm</th>\n",
       "      <th>Accuracy</th>\n",
       "      <th>ROC_AUC</th>\n",
       "      <th>F1</th>\n",
       "      <th>APS</th>\n",
       "      <th>Sensitivity</th>\n",
       "      <th>Specificity</th>\n",
       "    </tr>\n",
       "  </thead>\n",
       "  <tbody>\n",
       "    <tr>\n",
       "      <th>0</th>\n",
       "      <td>MNB Implementation</td>\n",
       "      <td>0.900510</td>\n",
       "      <td>0.899401</td>\n",
       "      <td>0.906475</td>\n",
       "      <td>0.855659</td>\n",
       "      <td>0.935644</td>\n",
       "      <td>0.863158</td>\n",
       "    </tr>\n",
       "    <tr>\n",
       "      <th>1</th>\n",
       "      <td>BERT</td>\n",
       "      <td>0.969543</td>\n",
       "      <td>0.969360</td>\n",
       "      <td>0.970588</td>\n",
       "      <td>0.954755</td>\n",
       "      <td>0.975369</td>\n",
       "      <td>0.963351</td>\n",
       "    </tr>\n",
       "  </tbody>\n",
       "</table>\n",
       "</div>"
      ],
      "text/plain": [
       "            Algorithm  Accuracy   ROC_AUC  ...       APS  Sensitivity  Specificity\n",
       "0  MNB Implementation  0.900510  0.899401  ...  0.855659     0.935644     0.863158\n",
       "1                BERT  0.969543  0.969360  ...  0.954755     0.975369     0.963351\n",
       "\n",
       "[2 rows x 7 columns]"
      ]
     },
     "execution_count": 43,
     "metadata": {
      "tags": []
     },
     "output_type": "execute_result"
    }
   ],
   "source": [
    "metrics_df.head()"
   ]
  },
  {
   "cell_type": "code",
   "execution_count": null,
   "metadata": {
    "colab": {
     "base_uri": "https://localhost:8080/",
     "height": 326
    },
    "id": "AGnv1HcRh-9T",
    "outputId": "ba174081-8f3d-4e7c-f3fb-aaa3e5960902"
   },
   "outputs": [
    {
     "data": {
      "text/plain": [
       "<function matplotlib.pyplot.show>"
      ]
     },
     "execution_count": 44,
     "metadata": {
      "tags": []
     },
     "output_type": "execute_result"
    },
    {
     "data": {
      "image/png": "[encoded data removed]",
      "text/plain": [
       "<Figure size 432x288 with 1 Axes>"
      ]
     },
     "metadata": {
      "needs_background": "light",
      "tags": []
     },
     "output_type": "display_data"
    }
   ],
   "source": [
    "Model=['MNB', 'Bert']\n",
    "acc = metrics_df['Accuracy']\n",
    "Index = [1,2]\n",
    "fig, ax = plt.subplots()\n",
    "ax.set(ylim=[0.4, 1.0])\n",
    "plt.bar(Index,acc, color = ['orange', 'green'])\n",
    "plt.xticks(Index, Model, rotation=90)\n",
    "plt.ylabel('Accuracy')\n",
    "plt.xlabel('Model')\n",
    "plt.title('Accuracies of Models')\n",
    "plt.show"
   ]
  },
  {
   "cell_type": "code",
   "execution_count": null,
   "metadata": {
    "colab": {
     "base_uri": "https://localhost:8080/"
    },
    "id": "tMTh5h0rcGLx",
    "outputId": "45c1fbce-2de0-4b51-fc44-c2cc19676af2"
   },
   "outputs": [
    {
     "data": {
      "image/png": "[encoded data removed]",
      "text/plain": [
       "<Figure size 1728x576 with 2 Axes>"
      ]
     },
     "metadata": {
      "tags": []
     },
     "output_type": "display_data"
    }
   ],
   "source": [
    "x_axis_labels = ['T','F'] # labels for x-axis\n",
    "y_axis_labels = ['T','F'] # labels for y-axis\n",
    "fig, (ax1, ax2) = plt.subplots(1,2, figsize=(24, 8))\n",
    "\n",
    "df_cm1 = pd.DataFrame(matrices[0], range(2), range(2))\n",
    "sns.set(font_scale=1.4) # for label size\n",
    "sns.heatmap(df_cm1, annot=True,annot_kws={\"size\": 20}, fmt='g', cmap='Oranges', \n",
    "            cbar= False, xticklabels=x_axis_labels, yticklabels=y_axis_labels, ax = ax1) # font size\n",
    "\n",
    "\n",
    "df_cm2 = pd.DataFrame(matrices[1], range(2), range(2))\n",
    "sns.set(font_scale=1.4) # for label size\n",
    "sns.heatmap(df_cm2, annot=True, annot_kws={\"size\": 20}, fmt='g', cmap='Greens', \n",
    "           cbar= False, xticklabels=x_axis_labels, yticklabels=y_axis_labels, ax = ax2) # font size\n",
    "\n",
    "\n",
    "ax1.set_title('MNB Implementation')\n",
    "ax2.set_title('BERT')\n",
    "plt.show()            "
   ]
  },
  {
   "cell_type": "code",
   "execution_count": null,
   "metadata": {
    "colab": {
     "base_uri": "https://localhost:8080/",
     "height": 663
    },
    "id": "xlAf2nnCnQx9",
    "outputId": "c9dd6b10-b081-424d-9fac-d87b5d938fc4"
   },
   "outputs": [
    {
     "data": {
      "image/png": "[encoded data removed]",
      "text/plain": [
       "<Figure size 360x360 with 1 Axes>"
      ]
     },
     "metadata": {
      "tags": []
     },
     "output_type": "display_data"
    },
    {
     "data": {
      "image/png": "[encoded data removed]",
      "text/plain": [
       "<Figure size 360x360 with 1 Axes>"
      ]
     },
     "metadata": {
      "tags": []
     },
     "output_type": "display_data"
    }
   ],
   "source": [
    "  labels= metrics_columns[1:]\n",
    "  stats= metrics_df.loc[0 ,labels] \n",
    "\n",
    "  angles=np.linspace(0, 2*np.pi, len(labels), endpoint=False)\n",
    "  # close the plot\n",
    "  stats=np.concatenate((stats,[stats[0]]))\n",
    "  angles=np.concatenate((angles,[angles[0]]))\n",
    "\n",
    "\n",
    "  fig=plt.figure(figsize= [5,5])\n",
    "  ax = fig.add_subplot(111, polar=True)\n",
    "  ax.plot(angles, stats, 'o-', linewidth=1, color = 'y')\n",
    "  ax.fill(angles, stats, alpha=0.25, color = 'y')\n",
    "  ax.set_thetagrids(angles * 180/np.pi, labels)\n",
    "  ax.set_title(metrics_df.loc[0 ,\"Algorithm\"]) \n",
    "  ax.grid(True)\n",
    "##########################################################################################################\n",
    "  labels= metrics_columns[1:]\n",
    "  stats= metrics_df.loc[1 ,labels] \n",
    "\n",
    "\n",
    "  angles=np.linspace(0, 2*np.pi, len(labels), endpoint=False)\n",
    "  # close the plot\n",
    "  stats=np.concatenate((stats,[stats[0]]))\n",
    "  angles=np.concatenate((angles,[angles[0]]))\n",
    "\n",
    "\n",
    "\n",
    "  fig=plt.figure(figsize= [5,5])\n",
    "  ax = fig.add_subplot(111, polar=True)\n",
    "  ax.plot(angles, stats, 'o-', linewidth=1, color = 'g')\n",
    "  ax.fill(angles, stats, alpha=0.25, color = 'g')\n",
    "  ax.set_thetagrids(angles * 180/np.pi, labels)\n",
    "  ax.set_title(metrics_df.loc[1 ,\"Algorithm\"]) \n",
    "  ax.grid(True)"
   ]
  },
  {
   "cell_type": "code",
   "execution_count": null,
   "metadata": {
    "id": "SPF90sc6TcWD"
   },
   "outputs": [],
   "source": []
  }
 ],
 "metadata": {
  "accelerator": "TPU",
  "colab": {
   "collapsed_sections": [],
   "name": "Data representation, reduction and analysis Project.ipynb",
   "provenance": [],
   "toc_visible": true
  },
  "kernelspec": {
   "display_name": "Python 3",
   "language": "python",
   "name": "python3"
  },
  "language_info": {
   "codemirror_mode": {
    "name": "ipython",
    "version": 3
   },
   "file_extension": ".py",
   "mimetype": "text/x-python",
   "name": "python",
   "nbconvert_exporter": "python",
   "pygments_lexer": "ipython3",
   "version": "3.7.7"
  }
 },
 "nbformat": 4,
 "nbformat_minor": 1
}
